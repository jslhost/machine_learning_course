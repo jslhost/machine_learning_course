{
 "cells": [
  {
   "cell_type": "markdown",
   "id": "458aec9c",
   "metadata": {},
   "source": [
    "# Import"
   ]
  },
  {
   "cell_type": "code",
   "execution_count": 126,
   "id": "1bec3c74",
   "metadata": {},
   "outputs": [],
   "source": [
    "import numpy as np\n",
    "import pandas as pd\n",
    "import matplotlib.pyplot as plt\n",
    "import seaborn as sns\n",
    "plt.style.use('seaborn')"
   ]
  },
  {
   "cell_type": "markdown",
   "id": "435bb29d",
   "metadata": {},
   "source": [
    "# Chargement des données"
   ]
  },
  {
   "cell_type": "markdown",
   "id": "d58abbec",
   "metadata": {},
   "source": [
    "Dans le cadre de ce notebook, nous étudierons un problème de classification. \n",
    "\n",
    "Pour travailler, on analysera des données comprenant 10 années d'observation de la météo en Australie. On essayera de prédire, pour un lieu donné, si la pluie va tomber le lendemain. \n",
    "\n",
    "Plus d'informations sur les données ici : https://www.kaggle.com/datasets/jsphyg/weather-dataset-rattle-package"
   ]
  },
  {
   "cell_type": "code",
   "execution_count": 127,
   "id": "96910a5d",
   "metadata": {},
   "outputs": [],
   "source": [
    "# Charger le fichier weatherAUS.csv dans une variable df\n"
   ]
  },
  {
   "cell_type": "code",
   "execution_count": 128,
   "id": "a7d6da05",
   "metadata": {},
   "outputs": [
    {
     "name": "stdout",
     "output_type": "stream",
     "text": [
      "<class 'pandas.core.frame.DataFrame'>\n",
      "RangeIndex: 145460 entries, 0 to 145459\n",
      "Data columns (total 23 columns):\n",
      " #   Column         Non-Null Count   Dtype  \n",
      "---  ------         --------------   -----  \n",
      " 0   Date           145460 non-null  object \n",
      " 1   Location       145460 non-null  object \n",
      " 2   MinTemp        143975 non-null  float64\n",
      " 3   MaxTemp        144199 non-null  float64\n",
      " 4   Rainfall       142199 non-null  float64\n",
      " 5   Evaporation    82670 non-null   float64\n",
      " 6   Sunshine       75625 non-null   float64\n",
      " 7   WindGustDir    135134 non-null  object \n",
      " 8   WindGustSpeed  135197 non-null  float64\n",
      " 9   WindDir9am     134894 non-null  object \n",
      " 10  WindDir3pm     141232 non-null  object \n",
      " 11  WindSpeed9am   143693 non-null  float64\n",
      " 12  WindSpeed3pm   142398 non-null  float64\n",
      " 13  Humidity9am    142806 non-null  float64\n",
      " 14  Humidity3pm    140953 non-null  float64\n",
      " 15  Pressure9am    130395 non-null  float64\n",
      " 16  Pressure3pm    130432 non-null  float64\n",
      " 17  Cloud9am       89572 non-null   float64\n",
      " 18  Cloud3pm       86102 non-null   float64\n",
      " 19  Temp9am        143693 non-null  float64\n",
      " 20  Temp3pm        141851 non-null  float64\n",
      " 21  RainToday      142199 non-null  object \n",
      " 22  RainTomorrow   142193 non-null  object \n",
      "dtypes: float64(16), object(7)\n",
      "memory usage: 25.5+ MB\n"
     ]
    }
   ],
   "source": [
    "# Afficher les infos du dataset\n"
   ]
  },
  {
   "cell_type": "code",
   "execution_count": 129,
   "id": "b959ad85",
   "metadata": {},
   "outputs": [
    {
     "data": {
      "text/html": [
       "<div>\n",
       "<style scoped>\n",
       "    .dataframe tbody tr th:only-of-type {\n",
       "        vertical-align: middle;\n",
       "    }\n",
       "\n",
       "    .dataframe tbody tr th {\n",
       "        vertical-align: top;\n",
       "    }\n",
       "\n",
       "    .dataframe thead th {\n",
       "        text-align: right;\n",
       "    }\n",
       "</style>\n",
       "<table border=\"1\" class=\"dataframe\">\n",
       "  <thead>\n",
       "    <tr style=\"text-align: right;\">\n",
       "      <th></th>\n",
       "      <th>MinTemp</th>\n",
       "      <th>MaxTemp</th>\n",
       "      <th>Rainfall</th>\n",
       "      <th>Evaporation</th>\n",
       "      <th>Sunshine</th>\n",
       "      <th>WindGustSpeed</th>\n",
       "      <th>WindSpeed9am</th>\n",
       "      <th>WindSpeed3pm</th>\n",
       "      <th>Humidity9am</th>\n",
       "      <th>Humidity3pm</th>\n",
       "      <th>Pressure9am</th>\n",
       "      <th>Pressure3pm</th>\n",
       "      <th>Cloud9am</th>\n",
       "      <th>Cloud3pm</th>\n",
       "      <th>Temp9am</th>\n",
       "      <th>Temp3pm</th>\n",
       "    </tr>\n",
       "  </thead>\n",
       "  <tbody>\n",
       "    <tr>\n",
       "      <th>count</th>\n",
       "      <td>143975.000000</td>\n",
       "      <td>144199.000000</td>\n",
       "      <td>142199.000000</td>\n",
       "      <td>82670.000000</td>\n",
       "      <td>75625.000000</td>\n",
       "      <td>135197.000000</td>\n",
       "      <td>143693.000000</td>\n",
       "      <td>142398.000000</td>\n",
       "      <td>142806.000000</td>\n",
       "      <td>140953.000000</td>\n",
       "      <td>130395.00000</td>\n",
       "      <td>130432.000000</td>\n",
       "      <td>89572.000000</td>\n",
       "      <td>86102.000000</td>\n",
       "      <td>143693.000000</td>\n",
       "      <td>141851.00000</td>\n",
       "    </tr>\n",
       "    <tr>\n",
       "      <th>mean</th>\n",
       "      <td>12.194034</td>\n",
       "      <td>23.221348</td>\n",
       "      <td>2.360918</td>\n",
       "      <td>5.468232</td>\n",
       "      <td>7.611178</td>\n",
       "      <td>40.035230</td>\n",
       "      <td>14.043426</td>\n",
       "      <td>18.662657</td>\n",
       "      <td>68.880831</td>\n",
       "      <td>51.539116</td>\n",
       "      <td>1017.64994</td>\n",
       "      <td>1015.255889</td>\n",
       "      <td>4.447461</td>\n",
       "      <td>4.509930</td>\n",
       "      <td>16.990631</td>\n",
       "      <td>21.68339</td>\n",
       "    </tr>\n",
       "    <tr>\n",
       "      <th>std</th>\n",
       "      <td>6.398495</td>\n",
       "      <td>7.119049</td>\n",
       "      <td>8.478060</td>\n",
       "      <td>4.193704</td>\n",
       "      <td>3.785483</td>\n",
       "      <td>13.607062</td>\n",
       "      <td>8.915375</td>\n",
       "      <td>8.809800</td>\n",
       "      <td>19.029164</td>\n",
       "      <td>20.795902</td>\n",
       "      <td>7.10653</td>\n",
       "      <td>7.037414</td>\n",
       "      <td>2.887159</td>\n",
       "      <td>2.720357</td>\n",
       "      <td>6.488753</td>\n",
       "      <td>6.93665</td>\n",
       "    </tr>\n",
       "    <tr>\n",
       "      <th>min</th>\n",
       "      <td>-8.500000</td>\n",
       "      <td>-4.800000</td>\n",
       "      <td>0.000000</td>\n",
       "      <td>0.000000</td>\n",
       "      <td>0.000000</td>\n",
       "      <td>6.000000</td>\n",
       "      <td>0.000000</td>\n",
       "      <td>0.000000</td>\n",
       "      <td>0.000000</td>\n",
       "      <td>0.000000</td>\n",
       "      <td>980.50000</td>\n",
       "      <td>977.100000</td>\n",
       "      <td>0.000000</td>\n",
       "      <td>0.000000</td>\n",
       "      <td>-7.200000</td>\n",
       "      <td>-5.40000</td>\n",
       "    </tr>\n",
       "    <tr>\n",
       "      <th>25%</th>\n",
       "      <td>7.600000</td>\n",
       "      <td>17.900000</td>\n",
       "      <td>0.000000</td>\n",
       "      <td>2.600000</td>\n",
       "      <td>4.800000</td>\n",
       "      <td>31.000000</td>\n",
       "      <td>7.000000</td>\n",
       "      <td>13.000000</td>\n",
       "      <td>57.000000</td>\n",
       "      <td>37.000000</td>\n",
       "      <td>1012.90000</td>\n",
       "      <td>1010.400000</td>\n",
       "      <td>1.000000</td>\n",
       "      <td>2.000000</td>\n",
       "      <td>12.300000</td>\n",
       "      <td>16.60000</td>\n",
       "    </tr>\n",
       "    <tr>\n",
       "      <th>50%</th>\n",
       "      <td>12.000000</td>\n",
       "      <td>22.600000</td>\n",
       "      <td>0.000000</td>\n",
       "      <td>4.800000</td>\n",
       "      <td>8.400000</td>\n",
       "      <td>39.000000</td>\n",
       "      <td>13.000000</td>\n",
       "      <td>19.000000</td>\n",
       "      <td>70.000000</td>\n",
       "      <td>52.000000</td>\n",
       "      <td>1017.60000</td>\n",
       "      <td>1015.200000</td>\n",
       "      <td>5.000000</td>\n",
       "      <td>5.000000</td>\n",
       "      <td>16.700000</td>\n",
       "      <td>21.10000</td>\n",
       "    </tr>\n",
       "    <tr>\n",
       "      <th>75%</th>\n",
       "      <td>16.900000</td>\n",
       "      <td>28.200000</td>\n",
       "      <td>0.800000</td>\n",
       "      <td>7.400000</td>\n",
       "      <td>10.600000</td>\n",
       "      <td>48.000000</td>\n",
       "      <td>19.000000</td>\n",
       "      <td>24.000000</td>\n",
       "      <td>83.000000</td>\n",
       "      <td>66.000000</td>\n",
       "      <td>1022.40000</td>\n",
       "      <td>1020.000000</td>\n",
       "      <td>7.000000</td>\n",
       "      <td>7.000000</td>\n",
       "      <td>21.600000</td>\n",
       "      <td>26.40000</td>\n",
       "    </tr>\n",
       "    <tr>\n",
       "      <th>max</th>\n",
       "      <td>33.900000</td>\n",
       "      <td>48.100000</td>\n",
       "      <td>371.000000</td>\n",
       "      <td>145.000000</td>\n",
       "      <td>14.500000</td>\n",
       "      <td>135.000000</td>\n",
       "      <td>130.000000</td>\n",
       "      <td>87.000000</td>\n",
       "      <td>100.000000</td>\n",
       "      <td>100.000000</td>\n",
       "      <td>1041.00000</td>\n",
       "      <td>1039.600000</td>\n",
       "      <td>9.000000</td>\n",
       "      <td>9.000000</td>\n",
       "      <td>40.200000</td>\n",
       "      <td>46.70000</td>\n",
       "    </tr>\n",
       "  </tbody>\n",
       "</table>\n",
       "</div>"
      ],
      "text/plain": [
       "             MinTemp        MaxTemp       Rainfall   Evaporation  \\\n",
       "count  143975.000000  144199.000000  142199.000000  82670.000000   \n",
       "mean       12.194034      23.221348       2.360918      5.468232   \n",
       "std         6.398495       7.119049       8.478060      4.193704   \n",
       "min        -8.500000      -4.800000       0.000000      0.000000   \n",
       "25%         7.600000      17.900000       0.000000      2.600000   \n",
       "50%        12.000000      22.600000       0.000000      4.800000   \n",
       "75%        16.900000      28.200000       0.800000      7.400000   \n",
       "max        33.900000      48.100000     371.000000    145.000000   \n",
       "\n",
       "           Sunshine  WindGustSpeed   WindSpeed9am   WindSpeed3pm  \\\n",
       "count  75625.000000  135197.000000  143693.000000  142398.000000   \n",
       "mean       7.611178      40.035230      14.043426      18.662657   \n",
       "std        3.785483      13.607062       8.915375       8.809800   \n",
       "min        0.000000       6.000000       0.000000       0.000000   \n",
       "25%        4.800000      31.000000       7.000000      13.000000   \n",
       "50%        8.400000      39.000000      13.000000      19.000000   \n",
       "75%       10.600000      48.000000      19.000000      24.000000   \n",
       "max       14.500000     135.000000     130.000000      87.000000   \n",
       "\n",
       "         Humidity9am    Humidity3pm   Pressure9am    Pressure3pm  \\\n",
       "count  142806.000000  140953.000000  130395.00000  130432.000000   \n",
       "mean       68.880831      51.539116    1017.64994    1015.255889   \n",
       "std        19.029164      20.795902       7.10653       7.037414   \n",
       "min         0.000000       0.000000     980.50000     977.100000   \n",
       "25%        57.000000      37.000000    1012.90000    1010.400000   \n",
       "50%        70.000000      52.000000    1017.60000    1015.200000   \n",
       "75%        83.000000      66.000000    1022.40000    1020.000000   \n",
       "max       100.000000     100.000000    1041.00000    1039.600000   \n",
       "\n",
       "           Cloud9am      Cloud3pm        Temp9am       Temp3pm  \n",
       "count  89572.000000  86102.000000  143693.000000  141851.00000  \n",
       "mean       4.447461      4.509930      16.990631      21.68339  \n",
       "std        2.887159      2.720357       6.488753       6.93665  \n",
       "min        0.000000      0.000000      -7.200000      -5.40000  \n",
       "25%        1.000000      2.000000      12.300000      16.60000  \n",
       "50%        5.000000      5.000000      16.700000      21.10000  \n",
       "75%        7.000000      7.000000      21.600000      26.40000  \n",
       "max        9.000000      9.000000      40.200000      46.70000  "
      ]
     },
     "execution_count": 129,
     "metadata": {},
     "output_type": "execute_result"
    }
   ],
   "source": [
    "# Afficher le résumé statistique du dataset\n"
   ]
  },
  {
   "cell_type": "code",
   "execution_count": 130,
   "id": "a4cd3f21",
   "metadata": {},
   "outputs": [
    {
     "data": {
      "text/html": [
       "<div>\n",
       "<style scoped>\n",
       "    .dataframe tbody tr th:only-of-type {\n",
       "        vertical-align: middle;\n",
       "    }\n",
       "\n",
       "    .dataframe tbody tr th {\n",
       "        vertical-align: top;\n",
       "    }\n",
       "\n",
       "    .dataframe thead th {\n",
       "        text-align: right;\n",
       "    }\n",
       "</style>\n",
       "<table border=\"1\" class=\"dataframe\">\n",
       "  <thead>\n",
       "    <tr style=\"text-align: right;\">\n",
       "      <th></th>\n",
       "      <th>Date</th>\n",
       "      <th>Location</th>\n",
       "      <th>MinTemp</th>\n",
       "      <th>MaxTemp</th>\n",
       "      <th>Rainfall</th>\n",
       "      <th>Evaporation</th>\n",
       "      <th>Sunshine</th>\n",
       "      <th>WindGustDir</th>\n",
       "      <th>WindGustSpeed</th>\n",
       "      <th>WindDir9am</th>\n",
       "      <th>...</th>\n",
       "      <th>Humidity9am</th>\n",
       "      <th>Humidity3pm</th>\n",
       "      <th>Pressure9am</th>\n",
       "      <th>Pressure3pm</th>\n",
       "      <th>Cloud9am</th>\n",
       "      <th>Cloud3pm</th>\n",
       "      <th>Temp9am</th>\n",
       "      <th>Temp3pm</th>\n",
       "      <th>RainToday</th>\n",
       "      <th>RainTomorrow</th>\n",
       "    </tr>\n",
       "  </thead>\n",
       "  <tbody>\n",
       "    <tr>\n",
       "      <th>0</th>\n",
       "      <td>2008-12-01</td>\n",
       "      <td>Albury</td>\n",
       "      <td>13.4</td>\n",
       "      <td>22.9</td>\n",
       "      <td>0.6</td>\n",
       "      <td>NaN</td>\n",
       "      <td>NaN</td>\n",
       "      <td>W</td>\n",
       "      <td>44.0</td>\n",
       "      <td>W</td>\n",
       "      <td>...</td>\n",
       "      <td>71.0</td>\n",
       "      <td>22.0</td>\n",
       "      <td>1007.7</td>\n",
       "      <td>1007.1</td>\n",
       "      <td>8.0</td>\n",
       "      <td>NaN</td>\n",
       "      <td>16.9</td>\n",
       "      <td>21.8</td>\n",
       "      <td>No</td>\n",
       "      <td>No</td>\n",
       "    </tr>\n",
       "    <tr>\n",
       "      <th>1</th>\n",
       "      <td>2008-12-02</td>\n",
       "      <td>Albury</td>\n",
       "      <td>7.4</td>\n",
       "      <td>25.1</td>\n",
       "      <td>0.0</td>\n",
       "      <td>NaN</td>\n",
       "      <td>NaN</td>\n",
       "      <td>WNW</td>\n",
       "      <td>44.0</td>\n",
       "      <td>NNW</td>\n",
       "      <td>...</td>\n",
       "      <td>44.0</td>\n",
       "      <td>25.0</td>\n",
       "      <td>1010.6</td>\n",
       "      <td>1007.8</td>\n",
       "      <td>NaN</td>\n",
       "      <td>NaN</td>\n",
       "      <td>17.2</td>\n",
       "      <td>24.3</td>\n",
       "      <td>No</td>\n",
       "      <td>No</td>\n",
       "    </tr>\n",
       "    <tr>\n",
       "      <th>2</th>\n",
       "      <td>2008-12-03</td>\n",
       "      <td>Albury</td>\n",
       "      <td>12.9</td>\n",
       "      <td>25.7</td>\n",
       "      <td>0.0</td>\n",
       "      <td>NaN</td>\n",
       "      <td>NaN</td>\n",
       "      <td>WSW</td>\n",
       "      <td>46.0</td>\n",
       "      <td>W</td>\n",
       "      <td>...</td>\n",
       "      <td>38.0</td>\n",
       "      <td>30.0</td>\n",
       "      <td>1007.6</td>\n",
       "      <td>1008.7</td>\n",
       "      <td>NaN</td>\n",
       "      <td>2.0</td>\n",
       "      <td>21.0</td>\n",
       "      <td>23.2</td>\n",
       "      <td>No</td>\n",
       "      <td>No</td>\n",
       "    </tr>\n",
       "  </tbody>\n",
       "</table>\n",
       "<p>3 rows × 23 columns</p>\n",
       "</div>"
      ],
      "text/plain": [
       "         Date Location  MinTemp  MaxTemp  Rainfall  Evaporation  Sunshine  \\\n",
       "0  2008-12-01   Albury     13.4     22.9       0.6          NaN       NaN   \n",
       "1  2008-12-02   Albury      7.4     25.1       0.0          NaN       NaN   \n",
       "2  2008-12-03   Albury     12.9     25.7       0.0          NaN       NaN   \n",
       "\n",
       "  WindGustDir  WindGustSpeed WindDir9am  ... Humidity9am  Humidity3pm  \\\n",
       "0           W           44.0          W  ...        71.0         22.0   \n",
       "1         WNW           44.0        NNW  ...        44.0         25.0   \n",
       "2         WSW           46.0          W  ...        38.0         30.0   \n",
       "\n",
       "   Pressure9am  Pressure3pm  Cloud9am  Cloud3pm  Temp9am  Temp3pm  RainToday  \\\n",
       "0       1007.7       1007.1       8.0       NaN     16.9     21.8         No   \n",
       "1       1010.6       1007.8       NaN       NaN     17.2     24.3         No   \n",
       "2       1007.6       1008.7       NaN       2.0     21.0     23.2         No   \n",
       "\n",
       "   RainTomorrow  \n",
       "0            No  \n",
       "1            No  \n",
       "2            No  \n",
       "\n",
       "[3 rows x 23 columns]"
      ]
     },
     "execution_count": 130,
     "metadata": {},
     "output_type": "execute_result"
    }
   ],
   "source": [
    "# Afficher les premières lignes du dataset\n"
   ]
  },
  {
   "cell_type": "code",
   "execution_count": 131,
   "id": "f0503083",
   "metadata": {},
   "outputs": [
    {
     "data": {
      "text/plain": [
       "(145460, 23)"
      ]
     },
     "execution_count": 131,
     "metadata": {},
     "output_type": "execute_result"
    }
   ],
   "source": [
    "# Afficher les dimensions du dataset\n"
   ]
  },
  {
   "cell_type": "code",
   "execution_count": 132,
   "id": "edcf40e1",
   "metadata": {},
   "outputs": [
    {
     "data": {
      "text/plain": [
       "(139411, 23)"
      ]
     },
     "execution_count": 132,
     "metadata": {},
     "output_type": "execute_result"
    }
   ],
   "source": [
    "# Remplacer les valeurs manquantes du dataset et afficher ses nouvelles dimensions\n",
    "# Créer une variable df_fill contenant le nouveau dataset"
   ]
  },
  {
   "cell_type": "code",
   "execution_count": 134,
   "id": "ff54cc2e",
   "metadata": {},
   "outputs": [
    {
     "name": "stdout",
     "output_type": "stream",
     "text": [
      "<class 'pandas.core.frame.DataFrame'>\n",
      "RangeIndex: 139411 entries, 0 to 139410\n",
      "Data columns (total 23 columns):\n",
      " #   Column         Non-Null Count   Dtype  \n",
      "---  ------         --------------   -----  \n",
      " 0   Date           139411 non-null  object \n",
      " 1   Location       139411 non-null  object \n",
      " 2   MinTemp        139411 non-null  float64\n",
      " 3   MaxTemp        139411 non-null  float64\n",
      " 4   Rainfall       139411 non-null  float64\n",
      " 5   Evaporation    139411 non-null  float64\n",
      " 6   Sunshine       139411 non-null  float64\n",
      " 7   WindGustDir    139411 non-null  object \n",
      " 8   WindGustSpeed  139411 non-null  float64\n",
      " 9   WindDir9am     139411 non-null  object \n",
      " 10  WindDir3pm     139411 non-null  object \n",
      " 11  WindSpeed9am   139411 non-null  float64\n",
      " 12  WindSpeed3pm   139411 non-null  float64\n",
      " 13  Humidity9am    139411 non-null  float64\n",
      " 14  Humidity3pm    139411 non-null  float64\n",
      " 15  Pressure9am    139411 non-null  float64\n",
      " 16  Pressure3pm    139411 non-null  float64\n",
      " 17  Cloud9am       139411 non-null  float64\n",
      " 18  Cloud3pm       139411 non-null  float64\n",
      " 19  Temp9am        139411 non-null  float64\n",
      " 20  Temp3pm        139411 non-null  float64\n",
      " 21  RainToday      139411 non-null  object \n",
      " 22  RainTomorrow   139411 non-null  object \n",
      "dtypes: float64(16), object(7)\n",
      "memory usage: 24.5+ MB\n"
     ]
    }
   ],
   "source": [
    "# Afficher les infos du nouveau dataset\n"
   ]
  },
  {
   "cell_type": "code",
   "execution_count": 135,
   "id": "4be7e1ed",
   "metadata": {},
   "outputs": [
    {
     "data": {
      "image/png": "[encoded data removed]",
      "text/plain": [
       "<Figure size 576x396 with 1 Axes>"
      ]
     },
     "metadata": {},
     "output_type": "display_data"
    }
   ],
   "source": [
    "# Visualiser la distribution de la target 'RainTomorrow' avec une pie chart\n"
   ]
  },
  {
   "cell_type": "markdown",
   "id": "feae8b87",
   "metadata": {},
   "source": [
    "Il est important de notifier que notre target est déséquilibrée (proportion différente entre nos deux classes)."
   ]
  },
  {
   "cell_type": "markdown",
   "id": "80c615ae",
   "metadata": {},
   "source": [
    "# Preprocessing"
   ]
  },
  {
   "cell_type": "code",
   "execution_count": 141,
   "id": "20327aa9",
   "metadata": {},
   "outputs": [],
   "source": [
    "# Transformer la colonne 'RainTomorrow' de manière à remplacer les No par des 0 et les Yes par des 1\n"
   ]
  },
  {
   "cell_type": "code",
   "execution_count": 143,
   "id": "5019179b",
   "metadata": {},
   "outputs": [],
   "source": [
    "from sklearn.model_selection import train_test_split"
   ]
  },
  {
   "cell_type": "code",
   "execution_count": 185,
   "id": "053ea8c3",
   "metadata": {},
   "outputs": [],
   "source": [
    "# Créer une variable X contenant les features, une variable y contenant la target\n",
    "\n",
    "\n",
    "# Créer les variables X_train, X_test, y_train et y_test grâce à train_test_split()\n",
    "# On voudra un jeu de test d'une taille de 20% et on pourra définir l'argument random_state=0\n",
    "\n"
   ]
  },
  {
   "cell_type": "code",
   "execution_count": 149,
   "id": "74568e7d",
   "metadata": {
    "scrolled": true
   },
   "outputs": [
    {
     "data": {
      "text/plain": [
       "0    21675\n",
       "1     6208\n",
       "Name: RainTomorrow, dtype: int64"
      ]
     },
     "execution_count": 149,
     "metadata": {},
     "output_type": "execute_result"
    }
   ],
   "source": [
    "y_test.value_counts()"
   ]
  },
  {
   "cell_type": "markdown",
   "id": "250eac31",
   "metadata": {},
   "source": [
    "On peut voir à nouveau que notre target est déséquilibrée. "
   ]
  },
  {
   "cell_type": "code",
   "execution_count": 144,
   "id": "1c473d17",
   "metadata": {},
   "outputs": [],
   "source": [
    "from sklearn.linear_model import SGDClassifier\n",
    "from sklearn.preprocessing import RobustScaler, OneHotEncoder\n",
    "from sklearn.pipeline import make_pipeline\n",
    "from sklearn.compose import make_column_transformer, make_column_selector"
   ]
  },
  {
   "cell_type": "code",
   "execution_count": 145,
   "id": "b983d187",
   "metadata": {},
   "outputs": [],
   "source": [
    "# Créer une fonction create_model() qui renvoie une pipeline comportant toutes les étapes de transformation \n",
    "# des données (normalisation, encoding)\n",
    "def create_model(model):\n"
   ]
  },
  {
   "cell_type": "markdown",
   "id": "ab25fd2c",
   "metadata": {},
   "source": [
    "Dans le cadre de cet exercice, la target que nous essayons de prédire ne peut prendre que deux valeurs, elle est donc binaire (il pleut demain ou il ne pleut pas demain). On va alors chercher à entrainer un modèle de régression logistique qui gère bien les sorties binaires."
   ]
  },
  {
   "cell_type": "code",
   "execution_count": 208,
   "id": "36a1cb00",
   "metadata": {},
   "outputs": [],
   "source": [
    "# Créer une variable model comprenant un modèle SGDClassifier avec une loss le définissant comme\n",
    "# un modèle de régression logistique\n"
   ]
  },
  {
   "cell_type": "code",
   "execution_count": 209,
   "id": "2b435887",
   "metadata": {},
   "outputs": [
    {
     "data": {
      "text/plain": [
       "Pipeline(steps=[('columntransformer',\n",
       "                 ColumnTransformer(transformers=[('pipeline-1',\n",
       "                                                  Pipeline(steps=[('robustscaler',\n",
       "                                                                   RobustScaler())]),\n",
       "                                                  <sklearn.compose._column_transformer.make_column_selector object at 0x000001A5B6057E50>),\n",
       "                                                 ('pipeline-2',\n",
       "                                                  Pipeline(steps=[('onehotencoder',\n",
       "                                                                   OneHotEncoder(handle_unknown='ignore'))]),\n",
       "                                                  <sklearn.compose._column_transformer.make_column_selector object at 0x000001A5B6057EB0>)])),\n",
       "                ('sgdclassifier', SGDClassifier(loss='log'))])"
      ]
     },
     "execution_count": 209,
     "metadata": {},
     "output_type": "execute_result"
    }
   ],
   "source": [
    "model"
   ]
  },
  {
   "cell_type": "markdown",
   "id": "8cc438bf",
   "metadata": {},
   "source": [
    "# Entrainement"
   ]
  },
  {
   "cell_type": "code",
   "execution_count": 210,
   "id": "d2a5f21e",
   "metadata": {},
   "outputs": [
    {
     "data": {
      "text/plain": [
       "Pipeline(steps=[('columntransformer',\n",
       "                 ColumnTransformer(transformers=[('pipeline-1',\n",
       "                                                  Pipeline(steps=[('robustscaler',\n",
       "                                                                   RobustScaler())]),\n",
       "                                                  <sklearn.compose._column_transformer.make_column_selector object at 0x000001A5B6057E50>),\n",
       "                                                 ('pipeline-2',\n",
       "                                                  Pipeline(steps=[('onehotencoder',\n",
       "                                                                   OneHotEncoder(handle_unknown='ignore'))]),\n",
       "                                                  <sklearn.compose._column_transformer.make_column_selector object at 0x000001A5B6057EB0>)])),\n",
       "                ('sgdclassifier', SGDClassifier(loss='log'))])"
      ]
     },
     "execution_count": 210,
     "metadata": {},
     "output_type": "execute_result"
    }
   ],
   "source": [
    "# Entrainer le modèle sur nos données d'entrainement\n"
   ]
  },
  {
   "cell_type": "code",
   "execution_count": 211,
   "id": "ed678c45",
   "metadata": {},
   "outputs": [],
   "source": [
    "# Créer la variable ypred qui contient les prédictions faites sur le jeu de test\n"
   ]
  },
  {
   "cell_type": "code",
   "execution_count": 212,
   "id": "29716815",
   "metadata": {},
   "outputs": [
    {
     "data": {
      "text/plain": [
       "array([0, 0, 1, ..., 0, 0, 0], dtype=int64)"
      ]
     },
     "execution_count": 212,
     "metadata": {},
     "output_type": "execute_result"
    }
   ],
   "source": [
    "ypred"
   ]
  },
  {
   "cell_type": "markdown",
   "id": "76222882",
   "metadata": {},
   "source": [
    "# Evaluation"
   ]
  },
  {
   "cell_type": "code",
   "execution_count": 213,
   "id": "86ea0568",
   "metadata": {},
   "outputs": [],
   "source": [
    "from sklearn.metrics import accuracy_score, confusion_matrix, f1_score, precision_score, recall_score"
   ]
  },
  {
   "cell_type": "code",
   "execution_count": 214,
   "id": "f935e001",
   "metadata": {},
   "outputs": [
    {
     "data": {
      "text/plain": [
       "0.8504823727719399"
      ]
     },
     "execution_count": 214,
     "metadata": {},
     "output_type": "execute_result"
    }
   ],
   "source": [
    "# Afficher l'accuracy du modèle\n"
   ]
  },
  {
   "cell_type": "markdown",
   "id": "c3a1a6cc",
   "metadata": {},
   "source": [
    "Notre modèle obtient une accuracy (pourcentage de bonnes réponses données par le modèle) de 85%, ce qui semble être un très bon score. Cependant, il ne faut pas oublier que notre target est déséquilibrée (il y a dans nos données plus de cas où il ne pleut pas le lendemain que de cas où il pleut le lendemain).\n",
    "\n",
    "Par conséquent, si notre modèle prédit pour toutes les observations qu'il ne pleut pas demain, alors il obtiendra quand même une accuracy de 77,4% (d'après la distribution de la target).\n",
    "\n",
    "On comprend alors que dans ce cas, l'accuracy n'est pas une métrique pertinente pour évaluer les performances de notre modèle.\n",
    "\n",
    "Pour mieux comprendre les prédictions de notre modèle, on peut dans un premier temps afficher la matrice de confusion :"
   ]
  },
  {
   "cell_type": "code",
   "execution_count": 33,
   "id": "02f478bf",
   "metadata": {
    "scrolled": true
   },
   "outputs": [
    {
     "data": {
      "text/plain": [
       "array([[20281,  2816],\n",
       "       [ 1394,  3392]], dtype=int64)"
      ]
     },
     "execution_count": 33,
     "metadata": {},
     "output_type": "execute_result"
    }
   ],
   "source": [
    "confusion_matrix(y_test, ypred).T"
   ]
  },
  {
   "cell_type": "code",
   "execution_count": 34,
   "id": "1dc72806",
   "metadata": {},
   "outputs": [
    {
     "data": {
      "image/png": "[encoded data removed]",
      "text/plain": [
       "<Figure size 576x396 with 2 Axes>"
      ]
     },
     "metadata": {},
     "output_type": "display_data"
    }
   ],
   "source": [
    "sns.heatmap(confusion_matrix(y_test, ypred).T, annot=True, fmt='g')\n",
    "plt.xlabel('Reality')\n",
    "plt.ylabel('Prediction')\n",
    "plt.show()"
   ]
  },
  {
   "cell_type": "markdown",
   "id": "f7452330",
   "metadata": {},
   "source": [
    "En affichant cette matrice, il est plus facile de comprendre la nature de nos erreurs. \n",
    "- La diagonale traversant la figure du coin en haut à gauche au coin en bas à droite représente les prédictions correctement réalisées. \n",
    "- Au contraire, la diagonale partant du coin en bas à gauche jusqu'au coin en haut à droite représente nos erreurs.\n",
    "\n",
    "On peut ainsi voir où se trouvent les difficultés de notre modèle. En effet, notre modèle fait le plus d'erreurs quand il prédit qu'il ne va pas pleuvoir demain (valeur prédite de 0) alors qu'il va bien pleuvoir demain (valeur réelle de 1).\n",
    "\n",
    "Ainsi, notre modèle semble avoir une bonne précision mais un mauvais rappel, voyons cela en détail :"
   ]
  },
  {
   "cell_type": "code",
   "execution_count": 217,
   "id": "5cf76821",
   "metadata": {},
   "outputs": [
    {
     "data": {
      "text/plain": [
       "0.7192944719294472"
      ]
     },
     "execution_count": 217,
     "metadata": {},
     "output_type": "execute_result"
    }
   ],
   "source": [
    "# Calculer la precision du modèle\n"
   ]
  },
  {
   "cell_type": "code",
   "execution_count": 218,
   "id": "fb7100f4",
   "metadata": {},
   "outputs": [
    {
     "data": {
      "text/plain": [
       "0.538659793814433"
      ]
     },
     "execution_count": 218,
     "metadata": {},
     "output_type": "execute_result"
    }
   ],
   "source": [
    "# Calculer le rappel (recall) du modèle\n"
   ]
  },
  {
   "cell_type": "code",
   "execution_count": 219,
   "id": "c6fabc1a",
   "metadata": {},
   "outputs": [
    {
     "data": {
      "text/plain": [
       "0.6160081053698075"
      ]
     },
     "execution_count": 219,
     "metadata": {},
     "output_type": "execute_result"
    }
   ],
   "source": [
    "# Calculer le score f1, qui est un mixte de la précision et du rappel\n",
    "# C'est un score pratique pour comparer rapidement les performances globales de deux modèles\n"
   ]
  },
  {
   "cell_type": "markdown",
   "id": "60cef7f0",
   "metadata": {},
   "source": [
    "Comme on peut l'observer, notre modèle a bel et bien une précision plus élevée que son rappel. Cela signifie que :\n",
    "\n",
    "- Lorsque notre modèle prédit qu'il va pleuvoir demain, il fait peu d'erreurs.\n",
    "- Notre modèle ne repère qu'une faible quantité des cas où il va pleuvoir demain.\n",
    "\n",
    "Ainsi, on pourra faire relativement confiance à notre modèle quand il prédit qu'il va pleuvoir, mais il ne nous alertera peu souvent et laissera passer de nombreux cas où il va pleuvoir.\n",
    "\n",
    "Rappel et précision sont indissociables, une augmentation de l'un fait baisser l'autre et vice versa. C'est la raison pour laquelle on parle de compromis entre la précision et le rappel.\n",
    "\n",
    "Ce compromis s'orientera différement en fonction de nos cas d'usage. Par exemple, si notre modèle doit nous alerter en cas de fraude bancaire, on préférera que le modèle nous prévienne souvent (rappel élevé) même si il y a souvent de fausses alertes (précision faible). A nous d'utiliser ce compromis à notre avantage.\n"
   ]
  },
  {
   "cell_type": "markdown",
   "id": "f971d637",
   "metadata": {},
   "source": [
    "## Courbes Précision et Rappel & ROC"
   ]
  },
  {
   "cell_type": "markdown",
   "id": "8e9acedb",
   "metadata": {},
   "source": [
    "Afin de mieux visualiser ce compromis, on peut tracer la courbe de la précision VS le rappel."
   ]
  },
  {
   "cell_type": "code",
   "execution_count": 220,
   "id": "6b9928cd",
   "metadata": {},
   "outputs": [],
   "source": [
    "from sklearn.metrics import roc_curve, roc_auc_score, precision_recall_curve"
   ]
  },
  {
   "cell_type": "code",
   "execution_count": 221,
   "id": "bc43e0ed",
   "metadata": {},
   "outputs": [],
   "source": [
    "precisions, recalls, thresholds = precision_recall_curve(y_test, ypred)"
   ]
  },
  {
   "cell_type": "code",
   "execution_count": 222,
   "id": "ca3fec4e",
   "metadata": {},
   "outputs": [
    {
     "data": {
      "image/png": "[encoded data removed]",
      "text/plain": [
       "<Figure size 576x396 with 1 Axes>"
      ]
     },
     "metadata": {},
     "output_type": "display_data"
    }
   ],
   "source": [
    "# Tracer la courbe précision contre rappel\n"
   ]
  },
  {
   "cell_type": "markdown",
   "id": "1a0d6017",
   "metadata": {},
   "source": [
    "Plus la précision est haute et plus le rappel est bas (et vice versa). \n",
    "\n",
    "Il est intéressant de calculer l'aire sous la courbe que l'on vient de tracer, car un modèle parfait (précision et rappel de 100%) donnerait une courbe qui se rapproche le plus possible du coin supérieur droit du graphique. Ainsi, plus le modèle est bon, plus l'aire sous la courbe est grande. \n",
    "\n",
    "On va maintenant s'intéresser à la courbe ROC qui est très similaire. Elle compare le rappel (taux de vrais positifs) avec ce qu'on appelle parfois le fall-out (taux de faux positifs)."
   ]
  },
  {
   "cell_type": "code",
   "execution_count": 223,
   "id": "45e0ae12",
   "metadata": {},
   "outputs": [],
   "source": [
    "fpr, tpr, thresholds = roc_curve(y_test, ypred)"
   ]
  },
  {
   "cell_type": "code",
   "execution_count": 224,
   "id": "33fd4722",
   "metadata": {},
   "outputs": [
    {
     "data": {
      "image/png": "[encoded data removed]",
      "text/plain": [
       "<Figure size 576x396 with 1 Axes>"
      ]
     },
     "metadata": {},
     "output_type": "display_data"
    }
   ],
   "source": [
    "plt.plot(fpr, tpr, linewidth=2)                               \n",
    "plt.xlabel('False Positive Rate (Fall-Out)', fontsize=16) # Not shown\n",
    "plt.ylabel('True Positive Rate (Recall)', fontsize=16)\n",
    "plt.show()"
   ]
  },
  {
   "cell_type": "markdown",
   "id": "49a9bff9",
   "metadata": {},
   "source": [
    "De la même manière, il existe un compromis entre recall et fall-out.\n",
    "\n",
    "- "
   ]
  },
  {
   "cell_type": "code",
   "execution_count": 225,
   "id": "828522f3",
   "metadata": {},
   "outputs": [
    {
     "data": {
      "text/plain": [
       "0.7392260906788427"
      ]
     },
     "execution_count": 225,
     "metadata": {},
     "output_type": "execute_result"
    }
   ],
   "source": [
    "roc_auc_score(y_test, ypred)"
   ]
  },
  {
   "cell_type": "markdown",
   "id": "a588e295",
   "metadata": {},
   "source": [
    "## Entrainer un second modèle et comparer ses performances avec le précédent"
   ]
  },
  {
   "cell_type": "code",
   "execution_count": 330,
   "id": "1685aaf7",
   "metadata": {},
   "outputs": [
    {
     "name": "stdout",
     "output_type": "stream",
     "text": [
      "hinge\n",
      "squared_hinge\n",
      "perceptron\n",
      "log\n",
      "modified_huber\n",
      "squared_error\n",
      "squared_loss\n",
      "huber\n",
      "epsilon_insensitive\n",
      "squared_epsilon_insensitive\n"
     ]
    }
   ],
   "source": [
    "for loss in SGDClassifier.loss_functions.keys():\n",
    "    print(loss)"
   ]
  },
  {
   "cell_type": "code",
   "execution_count": 325,
   "id": "6777ffc5",
   "metadata": {},
   "outputs": [],
   "source": [
    "model2 = create_model(SGDClassifier(loss='hinge')) # Linear SVM"
   ]
  },
  {
   "cell_type": "code",
   "execution_count": 326,
   "id": "81cb0377",
   "metadata": {},
   "outputs": [
    {
     "data": {
      "text/plain": [
       "Pipeline(steps=[('columntransformer',\n",
       "                 ColumnTransformer(transformers=[('pipeline-1',\n",
       "                                                  Pipeline(steps=[('robustscaler',\n",
       "                                                                   RobustScaler())]),\n",
       "                                                  <sklearn.compose._column_transformer.make_column_selector object at 0x000001A5B9A742E0>),\n",
       "                                                 ('pipeline-2',\n",
       "                                                  Pipeline(steps=[('onehotencoder',\n",
       "                                                                   OneHotEncoder(handle_unknown='ignore'))]),\n",
       "                                                  <sklearn.compose._column_transformer.make_column_selector object at 0x000001A5B9A74F40>)])),\n",
       "                ('sgdclassifier', SGDClassifier())])"
      ]
     },
     "execution_count": 326,
     "metadata": {},
     "output_type": "execute_result"
    }
   ],
   "source": [
    "model2.fit(X_train, y_train)"
   ]
  },
  {
   "cell_type": "code",
   "execution_count": 327,
   "id": "d0fc18d5",
   "metadata": {},
   "outputs": [],
   "source": [
    "ypred2 = model2.predict(X_test)"
   ]
  },
  {
   "cell_type": "code",
   "execution_count": 332,
   "id": "0004eb40",
   "metadata": {},
   "outputs": [
    {
     "name": "stdout",
     "output_type": "stream",
     "text": [
      "Accuracy score :    Regression Logistique : 85%, SVM : 85%\n",
      "Precision score :   Regression Logistique : 72%, SVM : 78%\n",
      "Recall score :      Regression Logistique : 54%, SVM : 45%\n",
      "F1 score :          Regression Logistique : 62%, SVM : 57%\n",
      "ROC AUC score :     Regression Logistique : 74%, SVM : 71%\n"
     ]
    }
   ],
   "source": [
    "print(f\"{'Accuracy score :':<19}\" + f\" Regression Logistique : {accuracy_score(y_test, ypred):.0%}, SVM : {accuracy_score(y_test, ypred2):.0%}\")\n",
    "print(f\"{'Precision score :':<19}\" + f\" Regression Logistique : {precision_score(y_test, ypred):.0%}, SVM : {precision_score(y_test, ypred2):.0%}\")\n",
    "print(f\"{'Recall score : ':<19}\" + f\" Regression Logistique : {recall_score(y_test, ypred):.0%}, SVM : {recall_score(y_test, ypred2):.0%}\")\n",
    "print(f\"{'F1 score :':<19}\" + f\" Regression Logistique : {f1_score(y_test, ypred):.0%}, SVM : {f1_score(y_test, ypred2):.0%}\")\n",
    "print(f\"{'ROC AUC score :':<19}\" + f\" Regression Logistique : {roc_auc_score(y_test, ypred):.0%}, SVM : {roc_auc_score(y_test, ypred2):.0%}\")\n"
   ]
  },
  {
   "cell_type": "code",
   "execution_count": 333,
   "id": "6837fd1c",
   "metadata": {},
   "outputs": [],
   "source": [
    "precisions2, recalls2, thresholds2 = precision_recall_curve(y_test, ypred2)"
   ]
  },
  {
   "cell_type": "code",
   "execution_count": 350,
   "id": "28d3591e",
   "metadata": {},
   "outputs": [
    {
     "data": {
      "image/png": "[encoded data removed]",
      "text/plain": [
       "<Figure size 576x396 with 1 Axes>"
      ]
     },
     "metadata": {},
     "output_type": "display_data"
    }
   ],
   "source": [
    "plt.plot(recalls, precisions, ls='--', label='Regression logistique')\n",
    "plt.plot(recalls2, precisions2, ls='--', label='SVM')\n",
    "plt.xlabel(\"Recall\", fontsize=16)\n",
    "plt.ylabel(\"Precision\", fontsize=16)\n",
    "plt.legend()\n",
    "plt.show()"
   ]
  },
  {
   "cell_type": "code",
   "execution_count": 337,
   "id": "1516ecf4",
   "metadata": {},
   "outputs": [],
   "source": [
    "fpr2, tpr2, thresholds2 = roc_curve(y_test, ypred2)"
   ]
  },
  {
   "cell_type": "code",
   "execution_count": 348,
   "id": "0e40c6b8",
   "metadata": {},
   "outputs": [
    {
     "data": {
      "image/png": "[encoded data removed]",
      "text/plain": [
       "<Figure size 576x396 with 1 Axes>"
      ]
     },
     "metadata": {},
     "output_type": "display_data"
    }
   ],
   "source": [
    "plt.plot(fpr, tpr, ls='--', label='Regression logistique')    \n",
    "plt.plot(fpr2, tpr2, ls='--', label='SVM')                               \n",
    "plt.xlabel('False Positive Rate (Fall-Out)', fontsize=16) # Not shown\n",
    "plt.ylabel('True Positive Rate (Recall)', fontsize=16)\n",
    "plt.legend()\n",
    "plt.show()"
   ]
  },
  {
   "cell_type": "code",
   "execution_count": null,
   "id": "8ea81d08",
   "metadata": {},
   "outputs": [],
   "source": []
  }
 ],
 "metadata": {
  "kernelspec": {
   "display_name": "Python 3 (ipykernel)",
   "language": "python",
   "name": "python3"
  },
  "language_info": {
   "codemirror_mode": {
    "name": "ipython",
    "version": 3
   },
   "file_extension": ".py",
   "mimetype": "text/x-python",
   "name": "python",
   "nbconvert_exporter": "python",
   "pygments_lexer": "ipython3",
   "version": "3.8.8"
  }
 },
 "nbformat": 4,
 "nbformat_minor": 5
}
